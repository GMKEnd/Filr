{
 "cells": [
  {
   "cell_type": "code",
   "execution_count": 2,
   "metadata": {},
   "outputs": [
    {
     "name": "stdout",
     "output_type": "stream",
     "text": [
      "1 2 3 5\n",
      "1 2 5 3\n",
      "1 3 2 5\n",
      "1 3 5 2\n",
      "1 5 2 3\n",
      "1 5 3 2\n",
      "2 1 3 5\n",
      "2 1 5 3\n",
      "2 3 1 5\n",
      "2 3 5 1\n",
      "2 5 1 3\n",
      "2 5 3 1\n",
      "3 1 2 5\n",
      "3 1 5 2\n",
      "3 2 1 5\n",
      "3 2 5 1\n",
      "3 5 1 2\n",
      "3 5 2 1\n",
      "5 1 2 3\n",
      "5 1 3 2\n",
      "5 2 1 3\n",
      "5 2 3 1\n",
      "5 3 1 2\n",
      "5 3 2 1\n",
      "2   \n",
      "11  \n",
      "13  \n",
      "17  \n",
      "19  \n",
      "31  \n",
      "37  \n",
      "53  \n",
      "59  \n",
      "71  \n",
      "73  \n",
      "79  \n",
      "97  \n",
      "101 \n",
      "103 \n",
      "107 \n",
      "109 \n",
      "127 \n",
      "149 \n",
      "163 \n",
      "167 \n",
      "181 \n",
      "The total is 22\n"
     ]
    }
   ],
   "source": [
    "#第一题\n",
    "for i in range(1,6):\n",
    "    for j in range(1,6):\n",
    "        for k in range(1,6):\n",
    "            for l in range (1,6):\n",
    "                if(i != k) and (i != j) and (j != k) and (i!=l) and (j!=l) and (k!=l) and (i !=4) and (j !=4) and (k !=4) and (l != 4):\n",
    "                    print(i,j,k,l)\n",
    "                    \n",
    "#第二题    \n",
    "mylist=[]\n",
    "for count in range (20):\n",
    "    mylist.append(0)\n",
    "mylist[0]=1\n",
    "mylist[1]=1\n",
    "for i in range (2,20,1):\n",
    "    mylist[i]=mylist[i-1]+mylist[i-2]\n",
    "\n",
    "for k in range(0,19):\n",
    "    t=mylist[k]+mylist[k+1]\n",
    "print(t)\n",
    "\n",
    "#第三题\n",
    "h = 0\n",
    "leap = 1\n",
    "from math import sqrt\n",
    "from sys import stdout\n",
    "for m in range(2,201):\n",
    "    k = int(sqrt(m + 1))\n",
    "    for i in range(2,k + 1):\n",
    "        if m % i == 0:\n",
    "            leap = 0\n",
    "            break\n",
    "    if leap == 1 and (m//100+(m%100)//10+(m%100)%10)%2==0:\n",
    "        print( '%-4d' % m)\n",
    "        h += 1\n",
    "    leap = 1\n",
    "print ('The total is %d' % h)\n",
    "\n",
    "#第四题\n",
    "ac=200\n",
    "bc=150\n",
    "yi=150-50*ta\n",
    "jia=200-100*tb\n",
    "for n in range (0,100000):\n",
    "    if 4n<ta<4n+2:\n",
    "        jia = 200-100*(ta-4n)\n",
    "    else:\n",
    "        jia = 100*(ta-4n-2)\n",
    "for n in range (0,100000):\n",
    "    if 6n<ta<6n+3:\n",
    "        yi = 150-50*(ta-6n)\n",
    "    else:\n",
    "        yi = 50*(ta-6n-3)"
   ]
  },
  {
   "cell_type": "code",
   "execution_count": null,
   "metadata": {
    "collapsed": true
   },
   "outputs": [],
   "source": []
  },
  {
   "cell_type": "code",
   "execution_count": null,
   "metadata": {
    "collapsed": true
   },
   "outputs": [],
   "source": []
  }
 ],
 "metadata": {
  "kernelspec": {
   "display_name": "Python 3",
   "language": "python",
   "name": "python3"
  },
  "language_info": {
   "codemirror_mode": {
    "name": "ipython",
    "version": 3
   },
   "file_extension": ".py",
   "mimetype": "text/x-python",
   "name": "python",
   "nbconvert_exporter": "python",
   "pygments_lexer": "ipython3",
   "version": "3.6.2"
  }
 },
 "nbformat": 4,
 "nbformat_minor": 2
}
